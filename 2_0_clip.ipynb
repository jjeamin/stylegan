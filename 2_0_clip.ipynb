{
 "cells": [
  {
   "cell_type": "markdown",
   "metadata": {},
   "source": [
    "## API\n",
    "\n",
    "The CLIP module `clip` provides the following methods:\n",
    "\n",
    "#### `clip.available_models()`\n",
    "\n",
    "Returns the names of the available CLIP models.\n",
    "\n",
    "#### `clip.load(name, device=..., jit=False)`\n",
    "\n",
    "Returns the model and the TorchVision transform needed by the model, specified by the model name returned by `clip.available_models()`. It will download the model as necessary. The `name` argument can also be a path to a local checkpoint.\n",
    "\n",
    "The device to run the model can be optionally specified, and the default is to use the first CUDA device if there is any, otherwise the CPU. When `jit` is `False`, a non-JIT version of the model will be loaded.\n",
    "\n",
    "#### `clip.tokenize(text: Union[str, List[str]], context_length=77)`\n",
    "\n",
    "Returns a LongTensor containing tokenized sequences of given text input(s). This can be used as the input to the model\n",
    "\n",
    "---\n",
    "\n",
    "The model returned by `clip.load()` supports the following methods:\n",
    "\n",
    "#### `model.encode_image(image: Tensor)`\n",
    "\n",
    "Given a batch of images, returns the image features encoded by the vision portion of the CLIP model.\n",
    "\n",
    "#### `model.encode_text(text: Tensor)`\n",
    "\n",
    "Given a batch of text tokens, returns the text features encoded by the language portion of the CLIP model.\n",
    "\n",
    "#### `model(image: Tensor, text: Tensor)`\n",
    "\n",
    "Given a batch of images and a batch of text tokens, returns two Tensors, containing the logit scores corresponding to each image and text input. The values are cosine similarities between the corresponding image and text features, times 100.\n"
   ]
  },
  {
   "cell_type": "code",
   "execution_count": null,
   "metadata": {},
   "outputs": [],
   "source": []
  }
 ],
 "metadata": {
  "language_info": {
   "name": "python"
  },
  "orig_nbformat": 4
 },
 "nbformat": 4,
 "nbformat_minor": 2
}
